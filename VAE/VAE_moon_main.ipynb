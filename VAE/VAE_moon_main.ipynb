{
 "cells": [
  {
   "cell_type": "code",
   "execution_count": 1,
   "id": "8b4842c3",
   "metadata": {},
   "outputs": [],
   "source": [
    "save_plots = True\n",
    "train_model = True\n",
    "save_model = True\n",
    "flops_count = True"
   ]
  },
  {
   "cell_type": "code",
   "execution_count": 3,
   "id": "40e1ec87",
   "metadata": {},
   "outputs": [],
   "source": [
    "import os\n",
    "import numpy as np\n",
    "import time\n",
    "import torch\n",
    "import torch.nn as nn\n",
    "import torch.optim as optim\n",
    "from torch.utils.data import TensorDataset, DataLoader\n",
    "import matplotlib.pyplot as plt\n",
    "from matplotlib.colors import Normalize\n",
    "from matplotlib.cm import ScalarMappable\n",
    "import seaborn as sns\n",
    "from sklearn.datasets import make_moons\n",
    "from sklearn.neighbors import KernelDensity"
   ]
  },
  {
   "cell_type": "code",
   "execution_count": 6,
   "id": "41f09c3c",
   "metadata": {},
   "outputs": [
    {
     "name": "stdout",
     "output_type": "stream",
     "text": [
      "Current directory: /Users/sohamdas/Downloads/two_moon_data\n",
      "observed data size 100000\n"
     ]
    }
   ],
   "source": [
    "print(f\"Current directory: {os.getcwd()}\")\n",
    "X = np.load('data/X.npy')\n",
    "y = np.load('data/z.npy')\n",
    "n_samples, n_class = X.shape\n",
    "\n",
    "data = torch.tensor(X, dtype=torch.float32)\n",
    "print(f\"observed data size {data.shape[0]}\")"
   ]
  },
  {
   "cell_type": "code",
   "execution_count": 5,
   "id": "f95c7adc",
   "metadata": {},
   "outputs": [],
   "source": [
    "HIDDEN_DIM = 32\n",
    "LATENT_DIM = 2\n",
    "LEARNING_RATE = 0.001\n",
    "NUM_EPOCHS = 50\n",
    "BATCH_SIZE = 128\n",
    "GENERATED_SAMPLE = 1000\n",
    "KL_WEIGHT = 0.1\n",
    "\n",
    "PRINT_FREQ = 10\n",
    "PRINT_LAP = max(1, NUM_EPOCHS/PRINT_FREQ)"
   ]
  },
  {
   "cell_type": "code",
   "execution_count": 6,
   "id": "a959df76",
   "metadata": {},
   "outputs": [
    {
     "name": "stderr",
     "output_type": "stream",
     "text": [
      "2024-11-21 22:04:33.072122: I tensorflow/core/platform/cpu_feature_guard.cc:210] This TensorFlow binary is optimized to use available CPU instructions in performance-critical operations.\n",
      "To enable the following instructions: AVX2 AVX512F FMA, in other operations, rebuild TensorFlow with the appropriate compiler flags.\n",
      "2024-11-21 22:04:34.106282: W tensorflow/compiler/tf2tensorrt/utils/py_utils.cc:38] TF-TRT Warning: Could not find TensorRT\n"
     ]
    }
   ],
   "source": [
    "from VAE_moon_model import VAE_moon_unlab, train, model_save, model_load, count_flops"
   ]
  },
  {
   "cell_type": "code",
   "execution_count": 7,
   "id": "6a7d2e52",
   "metadata": {},
   "outputs": [
    {
     "name": "stdout",
     "output_type": "stream",
     "text": [
      "Using cpu device\n"
     ]
    }
   ],
   "source": [
    "device = \"cuda\" if torch.cuda.is_available() else \"mps\" if torch.backends.mps.is_available() else \"cpu\"\n",
    "model = VAE_moon_unlab(HIDDEN_DIM, LATENT_DIM).to(device)\n",
    "optimizer = optim.Adam(model.parameters(), lr=LEARNING_RATE)\n",
    "dataset = TensorDataset(data)\n",
    "dataloader = DataLoader(dataset, batch_size=BATCH_SIZE, shuffle=True)\n",
    "print(f'Using {device} device')"
   ]
  },
  {
   "cell_type": "code",
   "execution_count": 8,
   "id": "37cb992a",
   "metadata": {},
   "outputs": [
    {
     "name": "stdout",
     "output_type": "stream",
     "text": [
      "VAE_moon_unlab(\n",
      "  4.61 k, 100.000% Params, 4.61 KMac, 100.000% MACs, \n",
      "  (fc1): Linear(96, 2.081% Params, 96.0 Mac, 2.081% MACs, in_features=2, out_features=32, bias=True)\n",
      "  (fc2): Linear(1.06 k, 22.887% Params, 2.11 KMac, 45.774% MACs, in_features=32, out_features=32, bias=True)\n",
      "  (fc3): Linear(1.06 k, 22.887% Params, 0.0 Mac, 0.000% MACs, in_features=32, out_features=32, bias=True)\n",
      "  (fc31): Linear(66, 1.430% Params, 66.0 Mac, 1.430% MACs, in_features=32, out_features=2, bias=True)\n",
      "  (fc32): Linear(66, 1.430% Params, 66.0 Mac, 1.430% MACs, in_features=32, out_features=2, bias=True)\n",
      "  (fc4): Linear(96, 2.081% Params, 96.0 Mac, 2.081% MACs, in_features=2, out_features=32, bias=True)\n",
      "  (fc5): Linear(1.06 k, 22.887% Params, 1.06 KMac, 22.887% MACs, in_features=32, out_features=32, bias=True)\n",
      "  (fc6): Linear(1.06 k, 22.887% Params, 1.06 KMac, 22.887% MACs, in_features=32, out_features=32, bias=True)\n",
      "  (fc7): Linear(66, 1.430% Params, 66.0 Mac, 1.430% MACs, in_features=32, out_features=2, bias=True)\n",
      ")\n",
      "Computational complexity:  4.61 KMac\n",
      "Number of parameters:  4.61 k\n"
     ]
    }
   ],
   "source": [
    "if flops_count:\n",
    "    flops, params = count_flops(model)\n",
    "    print('Computational complexity: ', flops)\n",
    "    print('Number of parameters: ', params)"
   ]
  },
  {
   "cell_type": "code",
   "execution_count": 9,
   "id": "1e026a9a",
   "metadata": {},
   "outputs": [
    {
     "name": "stdout",
     "output_type": "stream",
     "text": [
      "Epoch [1/50] -> loss:51.47\n",
      "Epoch [6/50] -> loss:34.67\n",
      "Epoch [11/50] -> loss:34.49\n",
      "Epoch [16/50] -> loss:34.48\n",
      "Epoch [21/50] -> loss:34.46\n",
      "Epoch [26/50] -> loss:34.39\n",
      "Epoch [31/50] -> loss:34.34\n",
      "Epoch [36/50] -> loss:34.32\n",
      "Epoch [41/50] -> loss:34.34\n",
      "Epoch [46/50] -> loss:34.41\n",
      "Total time for 50 epochs 1.86 mins\n"
     ]
    }
   ],
   "source": [
    "if train_model:\n",
    "    start_time = time.time()\n",
    "    model = train(model, dataloader, optimizer, device, NUM_EPOCHS, PRINT_LAP, KL_WEIGHT)\n",
    "    end_time = time.time()\n",
    "    print(f\"Total time for {NUM_EPOCHS} epochs {(end_time-start_time)/60:.2f} mins\")    "
   ]
  },
  {
   "cell_type": "code",
   "execution_count": 10,
   "id": "3b055827",
   "metadata": {},
   "outputs": [
    {
     "name": "stdout",
     "output_type": "stream",
     "text": [
      "Model saved to /home/sohamdas/Python/two_moon_data/vae_moon_model.pth\n"
     ]
    }
   ],
   "source": [
    "if train_model and save_model:\n",
    "    model_save(model, file_path=root_loc+\"/vae_moon_model.pth\")"
   ]
  },
  {
   "cell_type": "code",
   "execution_count": 11,
   "id": "7bf1eb02",
   "metadata": {},
   "outputs": [],
   "source": [
    "if not train_model:\n",
    "    device = \"cuda\" if torch.cuda.is_available() else \"mps\" if torch.backends.mps.is_available() else \"cpu\"\n",
    "    model_class = VAE_moon_unlab(HIDDEN_DIM, LATENT_DIM).to(device)\n",
    "    model = model_load(model_class, \"vae_moon_model.pth\", device=device)"
   ]
  },
  {
   "cell_type": "code",
   "execution_count": 12,
   "id": "4543b98c",
   "metadata": {},
   "outputs": [],
   "source": [
    "model.eval()\n",
    "with torch.no_grad():\n",
    "    z = torch.randn(GENERATED_SAMPLE, LATENT_DIM).to(device)\n",
    "    generated_data = model.decode(z).cpu().numpy()"
   ]
  },
  {
   "cell_type": "code",
   "execution_count": 13,
   "id": "e45fc0b5",
   "metadata": {},
   "outputs": [],
   "source": [
    "from VAE_moon_plot import plot_temp, plot_contours, plot_generated_data\n",
    "from VAE_moon_plot import get_latent_representation, plot_latent_parameters, plot_latent_variable"
   ]
  },
  {
   "cell_type": "code",
   "execution_count": 14,
   "id": "333815d7",
   "metadata": {},
   "outputs": [],
   "source": [
    "mu, logvar = get_latent_representation(model, data, device)"
   ]
  },
  {
   "cell_type": "code",
   "execution_count": 15,
   "id": "ade854a9",
   "metadata": {},
   "outputs": [
    {
     "name": "stdout",
     "output_type": "stream",
     "text": [
      "Working on the plots ...\n"
     ]
    }
   ],
   "source": [
    "print(\"Working on the plots ...\")\n",
    "plot_temp(generated_data, save_plots)\n",
    "plot_contours(data, save_plots)\n",
    "plot_generated_data(data,generated_data, save_plots)\n",
    "plot_latent_parameters(mu, logvar, save_plots, labels=y)\n",
    "plot_latent_variable(mu, logvar, save_plots, labels=y)"
   ]
  },
  {
   "cell_type": "code",
   "execution_count": null,
   "id": "53480336",
   "metadata": {},
   "outputs": [],
   "source": []
  }
 ],
 "metadata": {
  "kernelspec": {
   "display_name": "Python 3 (ipykernel)",
   "language": "python",
   "name": "python3"
  },
  "language_info": {
   "codemirror_mode": {
    "name": "ipython",
    "version": 3
   },
   "file_extension": ".py",
   "mimetype": "text/x-python",
   "name": "python",
   "nbconvert_exporter": "python",
   "pygments_lexer": "ipython3",
   "version": "3.11.0"
  }
 },
 "nbformat": 4,
 "nbformat_minor": 5
}
